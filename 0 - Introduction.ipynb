{
 "cells": [
  {
   "cell_type": "markdown",
   "metadata": {},
   "source": [
    "# Python for data handling\n",
    "\n",
    "A short course presented by Emerge at NASA's Johnson Space Center on August 5, 2020. "
   ]
  },
  {
   "cell_type": "markdown",
   "metadata": {},
   "source": [
    "## Purpose and scope\n",
    "\n",
    "This short course is designed to give the audience or reader an overview of how Python's Pandas library can simplify common scientific data processing tasks. Texas COVID-19 data is used to highlight ways to read and write, perform basic scientific computing tasks, and plot numerical datasets using Python. \n",
    "\n",
    "This short course is not designed to teach Python, computer programming, or scientific computing. Individuals with some background in engineering, science, or general programming stand to benefit the most from this short course. \n",
    "\n",
    "This short course uses COVID-19 data because it is widely available and is of great interest to the community. The COVID-19 pandemic is an ongoing crisis. The contents of this short course is educational in nature and is not meant to provide analysis on public health policy. "
   ]
  },
  {
   "cell_type": "markdown",
   "metadata": {},
   "source": [
    "## Modules\n",
    "\n",
    "This lesson contains the following modules. Each module has a specific purpose. Every module after the first two uses Texas COVID-19 data for real-world example applications. The modules and their descriptions are listed below:\n",
    "\n",
    "1. **Python - a brief overview.** A brief overview of Python modules, data structures, and environments.\n",
    "\n",
    "2. **Pandas - a brief overview.** A brief overview of the Pandas library, its data structures, and what it can be used for. \n",
    "\n",
    "3. **Read and write data with Pandas.** How Pandas makes reading and writing tabular data straightforward. We'll use Texas COVID-19 data made available through the Texas Department of State Health Services as examples. \n",
    "\n",
    "4. **Manipulate and plot data with Pandas.** We'll make a few simple calculations using Texas COVID-19 data, and plot the results.  "
   ]
  },
  {
   "cell_type": "markdown",
   "metadata": {},
   "source": [
    "## Tentative schedule\n",
    "This lesson was designed to take just over an hour -- let's say one hour and 15 minutes. Below is a completely arbitrary estimate of how this time will pass:\n",
    "\n",
    "- Introduction: 10 minutes. \n",
    "- Module 1 (Python - a brief overview): 10 minutes.\n",
    "- Module 2 (Pandas - a brief overview): 15 minutes.\n",
    "- Module 3 (Read and write data with Pandas): 20 minutes. \n",
    "- Module 4 (Manipulate and plot data with Pandas): 20 minutes. "
   ]
  }
 ],
 "metadata": {
  "kernelspec": {
   "display_name": "Python 3",
   "language": "python",
   "name": "python3"
  },
  "language_info": {
   "codemirror_mode": {
    "name": "ipython",
    "version": 3
   },
   "file_extension": ".py",
   "mimetype": "text/x-python",
   "name": "python",
   "nbconvert_exporter": "python",
   "pygments_lexer": "ipython3",
   "version": "3.7.4"
  }
 },
 "nbformat": 4,
 "nbformat_minor": 2
}
